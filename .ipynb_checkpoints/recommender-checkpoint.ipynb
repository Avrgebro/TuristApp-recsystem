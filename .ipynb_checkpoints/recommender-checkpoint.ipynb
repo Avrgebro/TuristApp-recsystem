{
 "cells": [
  {
   "cell_type": "code",
   "execution_count": 2,
   "metadata": {},
   "outputs": [],
   "source": [
    "import pandas as pd\n",
    "import numpy as np\n",
    "import tensorflow as tf"
   ]
  },
  {
   "cell_type": "code",
   "execution_count": 8,
   "metadata": {},
   "outputs": [
    {
     "data": {
      "text/plain": [
       "(34, 57)"
      ]
     },
     "execution_count": 8,
     "metadata": {},
     "output_type": "execute_result"
    }
   ],
   "source": [
    "#importamos los ratings para cada lugar\n",
    "Y_data = pd.read_csv('ratings_place.csv', sep=\",\", header = None).values\n",
    "Y_data.shape"
   ]
  },
  {
   "cell_type": "code",
   "execution_count": 22,
   "metadata": {},
   "outputs": [
    {
     "data": {
      "text/plain": [
       "(34, 1)"
      ]
     },
     "execution_count": 22,
     "metadata": {},
     "output_type": "execute_result"
    }
   ],
   "source": [
    "#importamos la lista de lugares\n",
    "places_list = pd.read_csv('locations.csv', sep=\",\", skiprows =[0],usecols=[0], header = None).values\n",
    "places_list.shape"
   ]
  },
  {
   "cell_type": "code",
   "execution_count": 24,
   "metadata": {},
   "outputs": [
    {
     "name": "stderr",
     "output_type": "stream",
     "text": [
      "/home/jose/.local/lib/python3.7/site-packages/tensorflow/python/client/session.py:1702: UserWarning: An interactive session is already active. This can cause out-of-memory errors in some cases. You must explicitly call `InteractiveSession.close()` to release resources held by the other session(s).\n",
      "  warnings.warn('An interactive session is already active. This can '\n"
     ]
    },
    {
     "name": "stdout",
     "output_type": "stream",
     "text": [
      "step 0, training cost 574.74\n",
      "step 100, training cost 172.99\n",
      "step 200, training cost 21.9527\n",
      "step 300, training cost 1.38284\n",
      "step 400, training cost 0.117048\n",
      "step 500, training cost 0.0136412\n",
      "step 600, training cost 0.0016182\n",
      "step 700, training cost 0.000194502\n",
      "step 800, training cost 2.41539e-05\n",
      "step 900, training cost 3.01149e-06\n",
      "step 1000, training cost 3.54678e-07\n",
      "step 1100, training cost 3.75097e-08\n",
      "step 1200, training cost 3.65561e-09\n",
      "step 1300, training cost 4.05938e-10\n",
      "step 1400, training cost 8.75298e-11\n",
      "step 1500, training cost 3.73755e-11\n",
      "step 1600, training cost 2.31422e-11\n",
      "step 1700, training cost 1.64008e-11\n",
      "step 1800, training cost 1.24389e-11\n",
      "step 1900, training cost 9.97489e-12\n",
      "step 2000, training cost 8.34859e-12\n",
      "step 2100, training cost 6.75171e-12\n",
      "step 2200, training cost 5.57794e-12\n",
      "step 2300, training cost 4.66129e-12\n",
      "step 2400, training cost 4.36428e-12\n",
      "step 2500, training cost 4.36261e-12\n",
      "step 2600, training cost 3.78726e-12\n",
      "step 2700, training cost 4.26277e-12\n",
      "step 2800, training cost 3.92752e-12\n",
      "step 2900, training cost 3.60425e-12\n",
      "step 3000, training cost 4.26921e-12\n",
      "step 3100, training cost 4.25667e-12\n",
      "step 3200, training cost 1.28996e-09\n",
      "step 3300, training cost 5.47987e-12\n",
      "step 3400, training cost 9.43945e-08\n",
      "step 3500, training cost 4.57641e-12\n",
      "step 3600, training cost 3.98084e-08\n",
      "step 3700, training cost 7.36927e-12\n",
      "step 3800, training cost 4.29131e-07\n",
      "step 3900, training cost 1.53842e-11\n",
      "step 4000, training cost 2.85286e-07\n",
      "step 4100, training cost 2.79001e-11\n",
      "step 4200, training cost 1.44516e-08\n",
      "step 4300, training cost 1.94909e-11\n",
      "step 4400, training cost 2.86728e-06\n",
      "step 4500, training cost 2.61179e-10\n",
      "step 4600, training cost 7.07646e-12\n",
      "step 4700, training cost 1.87586e-09\n",
      "step 4800, training cost 1.30757e-11\n",
      "step 4900, training cost 1.49407e-05\n",
      "step 5000, training cost 9.30578e-12\n",
      "step 5100, training cost 6.70512e-09\n",
      "step 5200, training cost 7.41441e-08\n",
      "step 5300, training cost 4.41107e-06\n",
      "step 5400, training cost 6.27527e-11\n",
      "step 5500, training cost 5.92225e-07\n",
      "step 5600, training cost 1.88037e-11\n",
      "step 5700, training cost 4.09173e-07\n",
      "step 5800, training cost 2.20477e-11\n",
      "step 5900, training cost 9.01818e-07\n",
      "step 6000, training cost 1.45076e-09\n",
      "step 6100, training cost 9.95538e-08\n",
      "step 6200, training cost 3.98175e-07\n",
      "step 6300, training cost 1.11836e-10\n",
      "step 6400, training cost 5.62903e-07\n",
      "step 6500, training cost 6.8887e-11\n",
      "step 6600, training cost 9.18501e-09\n",
      "step 6700, training cost 2.35618e-09\n",
      "step 6800, training cost 1.90091e-11\n",
      "step 6900, training cost 2.7469e-07\n",
      "step 7000, training cost 7.91984e-08\n",
      "step 7100, training cost 2.2282e-10\n",
      "step 7200, training cost 4.00947e-08\n",
      "step 7300, training cost 3.17752e-11\n",
      "step 7400, training cost 5.02292e-08\n",
      "step 7500, training cost 3.84878e-08\n",
      "step 7600, training cost 1.09165e-07\n",
      "step 7700, training cost 4.6994e-06\n",
      "step 7800, training cost 1.83798e-06\n",
      "step 7900, training cost 2.12886e-07\n",
      "step 8000, training cost 3.50787e-08\n",
      "step 8100, training cost 1.56586e-06\n",
      "step 8200, training cost 2.0773e-07\n",
      "step 8300, training cost 4.86326e-06\n",
      "step 8400, training cost 1.08266e-05\n",
      "step 8500, training cost 7.33455e-07\n",
      "step 8600, training cost 2.92616e-07\n",
      "step 8700, training cost 2.57261e-07\n",
      "step 8800, training cost 1.32296e-08\n",
      "step 8900, training cost 3.54555e-07\n",
      "step 9000, training cost 2.26362e-05\n",
      "step 9100, training cost 1.10254e-06\n",
      "step 9200, training cost 1.71049e-08\n",
      "step 9300, training cost 1.45091e-06\n",
      "step 9400, training cost 2.06455e-07\n",
      "step 9500, training cost 4.99694e-06\n",
      "step 9600, training cost 8.31606e-07\n",
      "step 9700, training cost 8.96596e-07\n",
      "step 9800, training cost 8.0915e-05\n",
      "step 9900, training cost 0.000459371\n",
      "Predicted Y:\n",
      " [[2.000027   2.0000174  2.000017   ... 0.9999553  0.99994975 0.999956  ]\n",
      " [1.0000294  1.0000209  1.0000197  ... 0.99997926 0.99998003 0.9999758 ]\n",
      " [2.0000064  1.0000043  2.000001   ... 0.99999374 0.99999017 0.999989  ]\n",
      " ...\n",
      " [4.000041   3.0000303  3.0000308  ... 0.99993646 0.99993    0.99993503]\n",
      " [4.0000334  3.0000215  4.000018   ... 0.99993587 0.9999322  0.99993587]\n",
      " [3.0000412  2.0000305  3.0000267  ... 0.999941   0.99993837 0.99993944]]\n"
     ]
    }
   ],
   "source": [
    "#Logica del filtrado colaborativo para el minado de reglas de asociacion\n",
    "\n",
    "Y = tf.placeholder(tf.float32)\n",
    "\n",
    "X = tf.Variable(tf.truncated_normal([34, 100], stddev=0.1))\n",
    "Theta = tf.Variable(tf.truncated_normal([57, 100], stddev=0.1))\n",
    "\n",
    "#####\n",
    "R = tf.cast(tf.not_equal(Y, 0), tf.float32)\n",
    "\n",
    "Y_mean = (tf.reduce_sum(Y, axis = 1) / tf.reduce_sum(R, axis = 1))\n",
    "\n",
    "Y_norm = Y - tf.reshape(Y_mean,[-1,1])\n",
    "\n",
    "####\n",
    "\n",
    "cost = 0.5 * tf.reduce_sum(R * (tf.square(tf.matmul(X, tf.transpose(Theta)) - Y_norm)))\n",
    "\n",
    "train_step = tf.train.AdamOptimizer(1e-3).minimize(cost)\n",
    "\n",
    "#predicciones\n",
    "prediction = tf.matmul(X, tf.transpose(Theta)) + tf.reshape(Y_mean,[-1,1])\n",
    "\n",
    "#creamos la sesion de tf\n",
    "sess = tf.InteractiveSession()\n",
    "tf.global_variables_initializer().run()\n",
    "\n",
    "#entrenamiento\n",
    "for i in range(10000):\n",
    "    if i % 100 == 0:\n",
    "        print('step %d, training cost %g' % (i, cost.eval(feed_dict={Y: Y_data})))\n",
    "    sess.run(train_step, feed_dict={Y: Y_data})\n",
    "\n",
    "Y_pred = prediction.eval(feed_dict={Y: Y_data})\n",
    "print('Predicted Y:\\n', Y_pred)"
   ]
  },
  {
   "cell_type": "code",
   "execution_count": 25,
   "metadata": {},
   "outputs": [
    {
     "name": "stdout",
     "output_type": "stream",
     "text": [
      "1\n",
      "32\n",
      "31\n",
      "30\n",
      "29\n",
      "28\n",
      "27\n",
      "26\n",
      "25\n",
      "24\n",
      "23\n",
      "22\n",
      "21\n",
      "20\n",
      "19\n"
     ]
    }
   ],
   "source": [
    "Y_not_seen = (Y_data==0) * Y_pred\n",
    "recommend = np.argsort(-Y_not_seen, axis=0)\n",
    "\n",
    "# Muestra las k mejores recomendaciones para el usuario j\n",
    "k = 15\n",
    "j = 1\n",
    "\n",
    "for i in range (k):\n",
    "    print(places_list[recommend[i,j],0])"
   ]
  },
  {
   "cell_type": "code",
   "execution_count": 27,
   "metadata": {},
   "outputs": [
    {
     "data": {
      "text/plain": [
       "array([[ 0,  0,  0, ...,  0,  0,  0],\n",
       "       [31, 31, 31, ..., 31, 31, 31],\n",
       "       [30, 30, 30, ..., 30, 30, 30],\n",
       "       ...,\n",
       "       [14, 14, 14, ..., 14, 14, 14],\n",
       "       [ 8,  8,  8, ...,  8,  8,  8],\n",
       "       [33, 33, 33, ..., 33, 33, 33]])"
      ]
     },
     "execution_count": 27,
     "metadata": {},
     "output_type": "execute_result"
    }
   ],
   "source": [
    "#ahora cargamos los perfiles por usuario en un df"
   ]
  },
  {
   "cell_type": "code",
   "execution_count": 28,
   "metadata": {},
   "outputs": [],
   "source": [
    "sess.close()"
   ]
  },
  {
   "cell_type": "code",
   "execution_count": null,
   "metadata": {},
   "outputs": [],
   "source": []
  }
 ],
 "metadata": {
  "kernelspec": {
   "display_name": "Python 3",
   "language": "python",
   "name": "python3"
  },
  "language_info": {
   "codemirror_mode": {
    "name": "ipython",
    "version": 3
   },
   "file_extension": ".py",
   "mimetype": "text/x-python",
   "name": "python",
   "nbconvert_exporter": "python",
   "pygments_lexer": "ipython3",
   "version": "3.7.0"
  }
 },
 "nbformat": 4,
 "nbformat_minor": 2
}
